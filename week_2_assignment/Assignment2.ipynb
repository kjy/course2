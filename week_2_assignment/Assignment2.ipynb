{
 "cells": [
  {
   "cell_type": "markdown",
   "metadata": {},
   "source": [
    "# Assignment 2\n",
    "\n",
    "Before working on this assignment please read these instructions fully. In the submission area, you will notice that you can click the link to **Preview the Grading** for each step of the assignment. This is the criteria that will be used for peer grading. Please familiarize yourself with the criteria before beginning the assignment.\n",
    "\n",
    "An NOAA dataset has been stored in the file `data/C2A2_data/BinnedCsvs_d400/90d1e0ca1f65e6b081828f299501e61c9e16924e04bf3422fc197174.csv`. The data for this assignment comes from a subset of The National Centers for Environmental Information (NCEI) [Daily Global Historical Climatology Network](https://www1.ncdc.noaa.gov/pub/data/ghcn/daily/readme.txt) (GHCN-Daily). The GHCN-Daily is comprised of daily climate records from thousands of land surface stations across the globe.\n",
    "\n",
    "Each row in the assignment datafile corresponds to a single observation.\n",
    "\n",
    "The following variables are provided to you:\n",
    "\n",
    "* **id** : station identification code\n",
    "* **date** : date in YYYY-MM-DD format (e.g. 2012-01-24 = January 24, 2012)\n",
    "* **element** : indicator of element type\n",
    "    * TMAX : Maximum temperature (tenths of degrees C)\n",
    "    * TMIN : Minimum temperature (tenths of degrees C)\n",
    "* **value** : data value for element (tenths of degrees C)\n",
    "\n",
    "For this assignment, you must:\n",
    "\n",
    "1. Read the documentation and familiarize yourself with the dataset, then write some python code which returns a line graph of the record high and record low temperatures by day of the year over the period 2005-2014. The area between the record high and record low temperatures for each day should be shaded.\n",
    "2. Overlay a scatter of the 2015 data for any points (highs and lows) for which the ten year record (2005-2014) record high or record low was broken in 2015.\n",
    "3. Watch out for leap days (i.e. February 29th), it is reasonable to remove these points from the dataset for the purpose of this visualization.\n",
    "4. Make the visual nice! Leverage principles from the first module in this course when developing your solution. Consider issues such as legends, labels, and chart junk.\n",
    "\n",
    "The data you have been given is near **St Louis, Missouri, United States**, and the stations the data comes from are shown on the map below."
   ]
  },
  {
   "cell_type": "code",
   "execution_count": 1,
   "metadata": {
    "scrolled": true
   },
   "outputs": [
    {
     "data": {
      "text/html": [
       "<iframe src=\"data:text/html;base64,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\" width=\"100%\" height=\"480\"></iframe>"
      ],
      "text/plain": [
       "<IPython.core.display.HTML object>"
      ]
     },
     "execution_count": 1,
     "metadata": {},
     "output_type": "execute_result"
    }
   ],
   "source": [
    "import matplotlib.pyplot as plt\n",
    "import mplleaflet\n",
    "import pandas as pd\n",
    "\n",
    "def leaflet_plot_stations(binsize, hashid):\n",
    "\n",
    "    df = pd.read_csv('data/C2A2_data/BinSize_d{}.csv'.format(binsize))\n",
    "\n",
    "    station_locations_by_hash = df[df['hash'] == hashid]\n",
    "\n",
    "    lons = station_locations_by_hash['LONGITUDE'].tolist()\n",
    "    lats = station_locations_by_hash['LATITUDE'].tolist()\n",
    "\n",
    "    plt.figure(figsize=(8,8))\n",
    "\n",
    "    plt.scatter(lons, lats, c='r', alpha=0.7, s=200)\n",
    "\n",
    "    return mplleaflet.display()\n",
    "\n",
    "leaflet_plot_stations(400,'90d1e0ca1f65e6b081828f299501e61c9e16924e04bf3422fc197174')"
   ]
  },
  {
   "cell_type": "markdown",
   "metadata": {
    "collapsed": true
   },
   "source": [
    "Find min and max temperatures across 2005 - 2014 across 365 days\n",
    "Need to create a y-axis of temperature, and an x-axis of 1-365 for each day of a year.\n",
    "So for the first day of the year, Jan 1, you want to consider all of the 2005 through 2014 data and find the biggest Tmax and smallest Tmin, then plot these two values. Continue to do this for all 365 calendar days. Then you want a scatter plot of an Tmax and Tmin outside of those bounds projected on top, using the 2015 data."
   ]
  },
  {
   "cell_type": "code",
   "execution_count": 2,
   "metadata": {},
   "outputs": [
    {
     "data": {
      "text/html": [
       "<div>\n",
       "<table border=\"1\" class=\"dataframe\">\n",
       "  <thead>\n",
       "    <tr style=\"text-align: right;\">\n",
       "      <th></th>\n",
       "      <th>ID</th>\n",
       "      <th>Date</th>\n",
       "      <th>Element</th>\n",
       "      <th>Data_Value</th>\n",
       "    </tr>\n",
       "  </thead>\n",
       "  <tbody>\n",
       "    <tr>\n",
       "      <th>0</th>\n",
       "      <td>USC00237397</td>\n",
       "      <td>2014-03-05</td>\n",
       "      <td>TMIN</td>\n",
       "      <td>-94</td>\n",
       "    </tr>\n",
       "    <tr>\n",
       "      <th>1</th>\n",
       "      <td>USW00003960</td>\n",
       "      <td>2008-04-04</td>\n",
       "      <td>TMAX</td>\n",
       "      <td>100</td>\n",
       "    </tr>\n",
       "    <tr>\n",
       "      <th>2</th>\n",
       "      <td>USW00003966</td>\n",
       "      <td>2009-08-18</td>\n",
       "      <td>TMAX</td>\n",
       "      <td>283</td>\n",
       "    </tr>\n",
       "    <tr>\n",
       "      <th>3</th>\n",
       "      <td>USW00003966</td>\n",
       "      <td>2011-10-25</td>\n",
       "      <td>TMAX</td>\n",
       "      <td>289</td>\n",
       "    </tr>\n",
       "    <tr>\n",
       "      <th>4</th>\n",
       "      <td>USC00118147</td>\n",
       "      <td>2006-12-24</td>\n",
       "      <td>TMAX</td>\n",
       "      <td>100</td>\n",
       "    </tr>\n",
       "  </tbody>\n",
       "</table>\n",
       "</div>"
      ],
      "text/plain": [
       "            ID        Date Element  Data_Value\n",
       "0  USC00237397  2014-03-05    TMIN         -94\n",
       "1  USW00003960  2008-04-04    TMAX         100\n",
       "2  USW00003966  2009-08-18    TMAX         283\n",
       "3  USW00003966  2011-10-25    TMAX         289\n",
       "4  USC00118147  2006-12-24    TMAX         100"
      ]
     },
     "execution_count": 2,
     "metadata": {},
     "output_type": "execute_result"
    }
   ],
   "source": [
    "# Read the data\n",
    "data1 = pd.read_csv(\"data/C2A2_data/BinnedCsvs_d400/90d1e0ca1f65e6b081828f299501e61c9e16924e04bf3422fc197174.csv\")\n",
    "data1.head()"
   ]
  },
  {
   "cell_type": "code",
   "execution_count": 3,
   "metadata": {},
   "outputs": [
    {
     "data": {
      "text/plain": [
       "86842"
      ]
     },
     "execution_count": 3,
     "metadata": {},
     "output_type": "execute_result"
    }
   ],
   "source": [
    "len(data1)"
   ]
  },
  {
   "cell_type": "code",
   "execution_count": 4,
   "metadata": {},
   "outputs": [
    {
     "data": {
      "text/html": [
       "<div>\n",
       "<table border=\"1\" class=\"dataframe\">\n",
       "  <thead>\n",
       "    <tr style=\"text-align: right;\">\n",
       "      <th></th>\n",
       "      <th>ID</th>\n",
       "      <th>Date</th>\n",
       "      <th>Element</th>\n",
       "      <th>Data_Value</th>\n",
       "      <th>Year</th>\n",
       "      <th>Month-Day</th>\n",
       "    </tr>\n",
       "  </thead>\n",
       "  <tbody>\n",
       "    <tr>\n",
       "      <th>0</th>\n",
       "      <td>USC00237397</td>\n",
       "      <td>2014-03-05</td>\n",
       "      <td>TMIN</td>\n",
       "      <td>-94</td>\n",
       "      <td>2014</td>\n",
       "      <td>03-05</td>\n",
       "    </tr>\n",
       "    <tr>\n",
       "      <th>1</th>\n",
       "      <td>USW00003960</td>\n",
       "      <td>2008-04-04</td>\n",
       "      <td>TMAX</td>\n",
       "      <td>100</td>\n",
       "      <td>2008</td>\n",
       "      <td>04-04</td>\n",
       "    </tr>\n",
       "    <tr>\n",
       "      <th>2</th>\n",
       "      <td>USW00003966</td>\n",
       "      <td>2009-08-18</td>\n",
       "      <td>TMAX</td>\n",
       "      <td>283</td>\n",
       "      <td>2009</td>\n",
       "      <td>08-18</td>\n",
       "    </tr>\n",
       "    <tr>\n",
       "      <th>3</th>\n",
       "      <td>USW00003966</td>\n",
       "      <td>2011-10-25</td>\n",
       "      <td>TMAX</td>\n",
       "      <td>289</td>\n",
       "      <td>2011</td>\n",
       "      <td>10-25</td>\n",
       "    </tr>\n",
       "    <tr>\n",
       "      <th>4</th>\n",
       "      <td>USC00118147</td>\n",
       "      <td>2006-12-24</td>\n",
       "      <td>TMAX</td>\n",
       "      <td>100</td>\n",
       "      <td>2006</td>\n",
       "      <td>12-24</td>\n",
       "    </tr>\n",
       "  </tbody>\n",
       "</table>\n",
       "</div>"
      ],
      "text/plain": [
       "            ID        Date Element  Data_Value  Year Month-Day\n",
       "0  USC00237397  2014-03-05    TMIN         -94  2014     03-05\n",
       "1  USW00003960  2008-04-04    TMAX         100  2008     04-04\n",
       "2  USW00003966  2009-08-18    TMAX         283  2009     08-18\n",
       "3  USW00003966  2011-10-25    TMAX         289  2011     10-25\n",
       "4  USC00118147  2006-12-24    TMAX         100  2006     12-24"
      ]
     },
     "execution_count": 4,
     "metadata": {},
     "output_type": "execute_result"
    }
   ],
   "source": [
    "# Unpack Date column by slicing values for Year and Month-Day\n",
    "data1['Year'], data1['Month-Day'] = zip(*data1['Date'].apply(lambda x: (x[:4], x[5:])))\n",
    "data1.head()"
   ]
  },
  {
   "cell_type": "code",
   "execution_count": 5,
   "metadata": {
    "scrolled": true
   },
   "outputs": [
    {
     "data": {
      "text/html": [
       "<div>\n",
       "<table border=\"1\" class=\"dataframe\">\n",
       "  <thead>\n",
       "    <tr style=\"text-align: right;\">\n",
       "      <th></th>\n",
       "      <th>ID</th>\n",
       "      <th>Date</th>\n",
       "      <th>Element</th>\n",
       "      <th>Data_Value</th>\n",
       "      <th>Year</th>\n",
       "      <th>Month-Day</th>\n",
       "    </tr>\n",
       "  </thead>\n",
       "  <tbody>\n",
       "    <tr>\n",
       "      <th>2315</th>\n",
       "      <td>USC00238746</td>\n",
       "      <td>2012-02-29</td>\n",
       "      <td>TMAX</td>\n",
       "      <td>189</td>\n",
       "      <td>2012</td>\n",
       "      <td>02-29</td>\n",
       "    </tr>\n",
       "    <tr>\n",
       "      <th>2393</th>\n",
       "      <td>USC00238746</td>\n",
       "      <td>2012-02-29</td>\n",
       "      <td>TMIN</td>\n",
       "      <td>11</td>\n",
       "      <td>2012</td>\n",
       "      <td>02-29</td>\n",
       "    </tr>\n",
       "    <tr>\n",
       "      <th>7433</th>\n",
       "      <td>USC00237452</td>\n",
       "      <td>2012-02-29</td>\n",
       "      <td>TMIN</td>\n",
       "      <td>50</td>\n",
       "      <td>2012</td>\n",
       "      <td>02-29</td>\n",
       "    </tr>\n",
       "    <tr>\n",
       "      <th>7553</th>\n",
       "      <td>USC00237452</td>\n",
       "      <td>2012-02-29</td>\n",
       "      <td>TMAX</td>\n",
       "      <td>183</td>\n",
       "      <td>2012</td>\n",
       "      <td>02-29</td>\n",
       "    </tr>\n",
       "    <tr>\n",
       "      <th>8222</th>\n",
       "      <td>USC00237398</td>\n",
       "      <td>2012-02-29</td>\n",
       "      <td>TMIN</td>\n",
       "      <td>39</td>\n",
       "      <td>2012</td>\n",
       "      <td>02-29</td>\n",
       "    </tr>\n",
       "    <tr>\n",
       "      <th>8231</th>\n",
       "      <td>USC00237398</td>\n",
       "      <td>2012-02-29</td>\n",
       "      <td>TMAX</td>\n",
       "      <td>183</td>\n",
       "      <td>2012</td>\n",
       "      <td>02-29</td>\n",
       "    </tr>\n",
       "    <tr>\n",
       "      <th>10710</th>\n",
       "      <td>USC00118147</td>\n",
       "      <td>2012-02-29</td>\n",
       "      <td>TMIN</td>\n",
       "      <td>28</td>\n",
       "      <td>2012</td>\n",
       "      <td>02-29</td>\n",
       "    </tr>\n",
       "    <tr>\n",
       "      <th>10718</th>\n",
       "      <td>USC00118147</td>\n",
       "      <td>2012-02-29</td>\n",
       "      <td>TMAX</td>\n",
       "      <td>178</td>\n",
       "      <td>2012</td>\n",
       "      <td>02-29</td>\n",
       "    </tr>\n",
       "    <tr>\n",
       "      <th>11127</th>\n",
       "      <td>USC00232850</td>\n",
       "      <td>2012-02-29</td>\n",
       "      <td>TMIN</td>\n",
       "      <td>39</td>\n",
       "      <td>2012</td>\n",
       "      <td>02-29</td>\n",
       "    </tr>\n",
       "    <tr>\n",
       "      <th>11132</th>\n",
       "      <td>USC00232850</td>\n",
       "      <td>2012-02-29</td>\n",
       "      <td>TMAX</td>\n",
       "      <td>200</td>\n",
       "      <td>2012</td>\n",
       "      <td>02-29</td>\n",
       "    </tr>\n",
       "    <tr>\n",
       "      <th>11585</th>\n",
       "      <td>USC00111160</td>\n",
       "      <td>2012-02-29</td>\n",
       "      <td>TMAX</td>\n",
       "      <td>183</td>\n",
       "      <td>2012</td>\n",
       "      <td>02-29</td>\n",
       "    </tr>\n",
       "    <tr>\n",
       "      <th>11610</th>\n",
       "      <td>USC00111160</td>\n",
       "      <td>2012-02-29</td>\n",
       "      <td>TMIN</td>\n",
       "      <td>33</td>\n",
       "      <td>2012</td>\n",
       "      <td>02-29</td>\n",
       "    </tr>\n",
       "    <tr>\n",
       "      <th>13921</th>\n",
       "      <td>USC00238805</td>\n",
       "      <td>2012-02-29</td>\n",
       "      <td>TMAX</td>\n",
       "      <td>189</td>\n",
       "      <td>2012</td>\n",
       "      <td>02-29</td>\n",
       "    </tr>\n",
       "    <tr>\n",
       "      <th>14073</th>\n",
       "      <td>USC00238805</td>\n",
       "      <td>2012-02-29</td>\n",
       "      <td>TMIN</td>\n",
       "      <td>11</td>\n",
       "      <td>2012</td>\n",
       "      <td>02-29</td>\n",
       "    </tr>\n",
       "    <tr>\n",
       "      <th>14436</th>\n",
       "      <td>USW00003966</td>\n",
       "      <td>2012-02-29</td>\n",
       "      <td>TMAX</td>\n",
       "      <td>194</td>\n",
       "      <td>2012</td>\n",
       "      <td>02-29</td>\n",
       "    </tr>\n",
       "    <tr>\n",
       "      <th>14457</th>\n",
       "      <td>USW00003966</td>\n",
       "      <td>2012-02-29</td>\n",
       "      <td>TMIN</td>\n",
       "      <td>83</td>\n",
       "      <td>2012</td>\n",
       "      <td>02-29</td>\n",
       "    </tr>\n",
       "    <tr>\n",
       "      <th>16071</th>\n",
       "      <td>USW00003960</td>\n",
       "      <td>2012-02-29</td>\n",
       "      <td>TMIN</td>\n",
       "      <td>94</td>\n",
       "      <td>2012</td>\n",
       "      <td>02-29</td>\n",
       "    </tr>\n",
       "    <tr>\n",
       "      <th>16072</th>\n",
       "      <td>USW00003960</td>\n",
       "      <td>2012-02-29</td>\n",
       "      <td>TMAX</td>\n",
       "      <td>194</td>\n",
       "      <td>2012</td>\n",
       "      <td>02-29</td>\n",
       "    </tr>\n",
       "    <tr>\n",
       "      <th>21193</th>\n",
       "      <td>USC00238725</td>\n",
       "      <td>2012-02-29</td>\n",
       "      <td>TMIN</td>\n",
       "      <td>0</td>\n",
       "      <td>2012</td>\n",
       "      <td>02-29</td>\n",
       "    </tr>\n",
       "    <tr>\n",
       "      <th>21489</th>\n",
       "      <td>USC00238725</td>\n",
       "      <td>2012-02-29</td>\n",
       "      <td>TMAX</td>\n",
       "      <td>178</td>\n",
       "      <td>2012</td>\n",
       "      <td>02-29</td>\n",
       "    </tr>\n",
       "    <tr>\n",
       "      <th>51321</th>\n",
       "      <td>USC00237397</td>\n",
       "      <td>2008-02-29</td>\n",
       "      <td>TMAX</td>\n",
       "      <td>39</td>\n",
       "      <td>2008</td>\n",
       "      <td>02-29</td>\n",
       "    </tr>\n",
       "    <tr>\n",
       "      <th>51342</th>\n",
       "      <td>USC00237397</td>\n",
       "      <td>2008-02-29</td>\n",
       "      <td>TMIN</td>\n",
       "      <td>-56</td>\n",
       "      <td>2008</td>\n",
       "      <td>02-29</td>\n",
       "    </tr>\n",
       "    <tr>\n",
       "      <th>60901</th>\n",
       "      <td>USC00237475</td>\n",
       "      <td>2012-02-29</td>\n",
       "      <td>TMIN</td>\n",
       "      <td>11</td>\n",
       "      <td>2012</td>\n",
       "      <td>02-29</td>\n",
       "    </tr>\n",
       "    <tr>\n",
       "      <th>60909</th>\n",
       "      <td>USC00237475</td>\n",
       "      <td>2012-02-29</td>\n",
       "      <td>TMAX</td>\n",
       "      <td>178</td>\n",
       "      <td>2012</td>\n",
       "      <td>02-29</td>\n",
       "    </tr>\n",
       "    <tr>\n",
       "      <th>69313</th>\n",
       "      <td>USC00237475</td>\n",
       "      <td>2008-02-29</td>\n",
       "      <td>TMAX</td>\n",
       "      <td>39</td>\n",
       "      <td>2008</td>\n",
       "      <td>02-29</td>\n",
       "    </tr>\n",
       "    <tr>\n",
       "      <th>69506</th>\n",
       "      <td>USC00237475</td>\n",
       "      <td>2008-02-29</td>\n",
       "      <td>TMIN</td>\n",
       "      <td>-67</td>\n",
       "      <td>2008</td>\n",
       "      <td>02-29</td>\n",
       "    </tr>\n",
       "    <tr>\n",
       "      <th>70955</th>\n",
       "      <td>USC00238725</td>\n",
       "      <td>2008-02-29</td>\n",
       "      <td>TMAX</td>\n",
       "      <td>50</td>\n",
       "      <td>2008</td>\n",
       "      <td>02-29</td>\n",
       "    </tr>\n",
       "    <tr>\n",
       "      <th>70972</th>\n",
       "      <td>USC00238725</td>\n",
       "      <td>2008-02-29</td>\n",
       "      <td>TMIN</td>\n",
       "      <td>-83</td>\n",
       "      <td>2008</td>\n",
       "      <td>02-29</td>\n",
       "    </tr>\n",
       "    <tr>\n",
       "      <th>72441</th>\n",
       "      <td>USW00003966</td>\n",
       "      <td>2008-02-29</td>\n",
       "      <td>TMAX</td>\n",
       "      <td>117</td>\n",
       "      <td>2008</td>\n",
       "      <td>02-29</td>\n",
       "    </tr>\n",
       "    <tr>\n",
       "      <th>72449</th>\n",
       "      <td>USW00003966</td>\n",
       "      <td>2008-02-29</td>\n",
       "      <td>TMIN</td>\n",
       "      <td>-21</td>\n",
       "      <td>2008</td>\n",
       "      <td>02-29</td>\n",
       "    </tr>\n",
       "    <tr>\n",
       "      <th>73479</th>\n",
       "      <td>USC00237397</td>\n",
       "      <td>2012-02-29</td>\n",
       "      <td>TMIN</td>\n",
       "      <td>11</td>\n",
       "      <td>2012</td>\n",
       "      <td>02-29</td>\n",
       "    </tr>\n",
       "    <tr>\n",
       "      <th>73690</th>\n",
       "      <td>USC00237397</td>\n",
       "      <td>2012-02-29</td>\n",
       "      <td>TMAX</td>\n",
       "      <td>178</td>\n",
       "      <td>2012</td>\n",
       "      <td>02-29</td>\n",
       "    </tr>\n",
       "    <tr>\n",
       "      <th>74810</th>\n",
       "      <td>USC00111160</td>\n",
       "      <td>2008-02-29</td>\n",
       "      <td>TMIN</td>\n",
       "      <td>-56</td>\n",
       "      <td>2008</td>\n",
       "      <td>02-29</td>\n",
       "    </tr>\n",
       "    <tr>\n",
       "      <th>75002</th>\n",
       "      <td>USC00111160</td>\n",
       "      <td>2008-02-29</td>\n",
       "      <td>TMAX</td>\n",
       "      <td>56</td>\n",
       "      <td>2008</td>\n",
       "      <td>02-29</td>\n",
       "    </tr>\n",
       "    <tr>\n",
       "      <th>75437</th>\n",
       "      <td>USC00238805</td>\n",
       "      <td>2008-02-29</td>\n",
       "      <td>TMIN</td>\n",
       "      <td>-72</td>\n",
       "      <td>2008</td>\n",
       "      <td>02-29</td>\n",
       "    </tr>\n",
       "    <tr>\n",
       "      <th>75444</th>\n",
       "      <td>USC00238805</td>\n",
       "      <td>2008-02-29</td>\n",
       "      <td>TMAX</td>\n",
       "      <td>33</td>\n",
       "      <td>2008</td>\n",
       "      <td>02-29</td>\n",
       "    </tr>\n",
       "    <tr>\n",
       "      <th>79585</th>\n",
       "      <td>USW00003960</td>\n",
       "      <td>2008-02-29</td>\n",
       "      <td>TMIN</td>\n",
       "      <td>-10</td>\n",
       "      <td>2008</td>\n",
       "      <td>02-29</td>\n",
       "    </tr>\n",
       "    <tr>\n",
       "      <th>79593</th>\n",
       "      <td>USW00003960</td>\n",
       "      <td>2008-02-29</td>\n",
       "      <td>TMAX</td>\n",
       "      <td>106</td>\n",
       "      <td>2008</td>\n",
       "      <td>02-29</td>\n",
       "    </tr>\n",
       "    <tr>\n",
       "      <th>79677</th>\n",
       "      <td>USC00232850</td>\n",
       "      <td>2008-02-29</td>\n",
       "      <td>TMIN</td>\n",
       "      <td>-61</td>\n",
       "      <td>2008</td>\n",
       "      <td>02-29</td>\n",
       "    </tr>\n",
       "    <tr>\n",
       "      <th>79727</th>\n",
       "      <td>USC00232850</td>\n",
       "      <td>2008-02-29</td>\n",
       "      <td>TMAX</td>\n",
       "      <td>44</td>\n",
       "      <td>2008</td>\n",
       "      <td>02-29</td>\n",
       "    </tr>\n",
       "    <tr>\n",
       "      <th>82218</th>\n",
       "      <td>USC00118147</td>\n",
       "      <td>2008-02-29</td>\n",
       "      <td>TMAX</td>\n",
       "      <td>67</td>\n",
       "      <td>2008</td>\n",
       "      <td>02-29</td>\n",
       "    </tr>\n",
       "    <tr>\n",
       "      <th>82297</th>\n",
       "      <td>USC00118147</td>\n",
       "      <td>2008-02-29</td>\n",
       "      <td>TMIN</td>\n",
       "      <td>-67</td>\n",
       "      <td>2008</td>\n",
       "      <td>02-29</td>\n",
       "    </tr>\n",
       "    <tr>\n",
       "      <th>83799</th>\n",
       "      <td>USC00238515</td>\n",
       "      <td>2008-02-29</td>\n",
       "      <td>TMIN</td>\n",
       "      <td>-22</td>\n",
       "      <td>2008</td>\n",
       "      <td>02-29</td>\n",
       "    </tr>\n",
       "    <tr>\n",
       "      <th>83839</th>\n",
       "      <td>USC00238515</td>\n",
       "      <td>2008-02-29</td>\n",
       "      <td>TMAX</td>\n",
       "      <td>133</td>\n",
       "      <td>2008</td>\n",
       "      <td>02-29</td>\n",
       "    </tr>\n",
       "  </tbody>\n",
       "</table>\n",
       "</div>"
      ],
      "text/plain": [
       "                ID        Date Element  Data_Value  Year Month-Day\n",
       "2315   USC00238746  2012-02-29    TMAX         189  2012     02-29\n",
       "2393   USC00238746  2012-02-29    TMIN          11  2012     02-29\n",
       "7433   USC00237452  2012-02-29    TMIN          50  2012     02-29\n",
       "7553   USC00237452  2012-02-29    TMAX         183  2012     02-29\n",
       "8222   USC00237398  2012-02-29    TMIN          39  2012     02-29\n",
       "8231   USC00237398  2012-02-29    TMAX         183  2012     02-29\n",
       "10710  USC00118147  2012-02-29    TMIN          28  2012     02-29\n",
       "10718  USC00118147  2012-02-29    TMAX         178  2012     02-29\n",
       "11127  USC00232850  2012-02-29    TMIN          39  2012     02-29\n",
       "11132  USC00232850  2012-02-29    TMAX         200  2012     02-29\n",
       "11585  USC00111160  2012-02-29    TMAX         183  2012     02-29\n",
       "11610  USC00111160  2012-02-29    TMIN          33  2012     02-29\n",
       "13921  USC00238805  2012-02-29    TMAX         189  2012     02-29\n",
       "14073  USC00238805  2012-02-29    TMIN          11  2012     02-29\n",
       "14436  USW00003966  2012-02-29    TMAX         194  2012     02-29\n",
       "14457  USW00003966  2012-02-29    TMIN          83  2012     02-29\n",
       "16071  USW00003960  2012-02-29    TMIN          94  2012     02-29\n",
       "16072  USW00003960  2012-02-29    TMAX         194  2012     02-29\n",
       "21193  USC00238725  2012-02-29    TMIN           0  2012     02-29\n",
       "21489  USC00238725  2012-02-29    TMAX         178  2012     02-29\n",
       "51321  USC00237397  2008-02-29    TMAX          39  2008     02-29\n",
       "51342  USC00237397  2008-02-29    TMIN         -56  2008     02-29\n",
       "60901  USC00237475  2012-02-29    TMIN          11  2012     02-29\n",
       "60909  USC00237475  2012-02-29    TMAX         178  2012     02-29\n",
       "69313  USC00237475  2008-02-29    TMAX          39  2008     02-29\n",
       "69506  USC00237475  2008-02-29    TMIN         -67  2008     02-29\n",
       "70955  USC00238725  2008-02-29    TMAX          50  2008     02-29\n",
       "70972  USC00238725  2008-02-29    TMIN         -83  2008     02-29\n",
       "72441  USW00003966  2008-02-29    TMAX         117  2008     02-29\n",
       "72449  USW00003966  2008-02-29    TMIN         -21  2008     02-29\n",
       "73479  USC00237397  2012-02-29    TMIN          11  2012     02-29\n",
       "73690  USC00237397  2012-02-29    TMAX         178  2012     02-29\n",
       "74810  USC00111160  2008-02-29    TMIN         -56  2008     02-29\n",
       "75002  USC00111160  2008-02-29    TMAX          56  2008     02-29\n",
       "75437  USC00238805  2008-02-29    TMIN         -72  2008     02-29\n",
       "75444  USC00238805  2008-02-29    TMAX          33  2008     02-29\n",
       "79585  USW00003960  2008-02-29    TMIN         -10  2008     02-29\n",
       "79593  USW00003960  2008-02-29    TMAX         106  2008     02-29\n",
       "79677  USC00232850  2008-02-29    TMIN         -61  2008     02-29\n",
       "79727  USC00232850  2008-02-29    TMAX          44  2008     02-29\n",
       "82218  USC00118147  2008-02-29    TMAX          67  2008     02-29\n",
       "82297  USC00118147  2008-02-29    TMIN         -67  2008     02-29\n",
       "83799  USC00238515  2008-02-29    TMIN         -22  2008     02-29\n",
       "83839  USC00238515  2008-02-29    TMAX         133  2008     02-29"
      ]
     },
     "execution_count": 5,
     "metadata": {},
     "output_type": "execute_result"
    }
   ],
   "source": [
    "# Find all leap year days of Feb. 29th\n",
    "leap = data1[data1['Month-Day'] == '02-29']\n",
    "leap\n"
   ]
  },
  {
   "cell_type": "code",
   "execution_count": 6,
   "metadata": {},
   "outputs": [
    {
     "data": {
      "text/plain": [
       "44"
      ]
     },
     "execution_count": 6,
     "metadata": {},
     "output_type": "execute_result"
    }
   ],
   "source": [
    "len(leap)"
   ]
  },
  {
   "cell_type": "code",
   "execution_count": 7,
   "metadata": {},
   "outputs": [
    {
     "data": {
      "text/html": [
       "<div>\n",
       "<table border=\"1\" class=\"dataframe\">\n",
       "  <thead>\n",
       "    <tr style=\"text-align: right;\">\n",
       "      <th></th>\n",
       "      <th>ID</th>\n",
       "      <th>Date</th>\n",
       "      <th>Element</th>\n",
       "      <th>Data_Value</th>\n",
       "      <th>Year</th>\n",
       "      <th>Month-Day</th>\n",
       "    </tr>\n",
       "  </thead>\n",
       "  <tbody>\n",
       "    <tr>\n",
       "      <th>0</th>\n",
       "      <td>USC00237397</td>\n",
       "      <td>2014-03-05</td>\n",
       "      <td>TMIN</td>\n",
       "      <td>-94</td>\n",
       "      <td>2014</td>\n",
       "      <td>03-05</td>\n",
       "    </tr>\n",
       "    <tr>\n",
       "      <th>1</th>\n",
       "      <td>USW00003960</td>\n",
       "      <td>2008-04-04</td>\n",
       "      <td>TMAX</td>\n",
       "      <td>100</td>\n",
       "      <td>2008</td>\n",
       "      <td>04-04</td>\n",
       "    </tr>\n",
       "    <tr>\n",
       "      <th>2</th>\n",
       "      <td>USW00003966</td>\n",
       "      <td>2009-08-18</td>\n",
       "      <td>TMAX</td>\n",
       "      <td>283</td>\n",
       "      <td>2009</td>\n",
       "      <td>08-18</td>\n",
       "    </tr>\n",
       "    <tr>\n",
       "      <th>3</th>\n",
       "      <td>USW00003966</td>\n",
       "      <td>2011-10-25</td>\n",
       "      <td>TMAX</td>\n",
       "      <td>289</td>\n",
       "      <td>2011</td>\n",
       "      <td>10-25</td>\n",
       "    </tr>\n",
       "    <tr>\n",
       "      <th>4</th>\n",
       "      <td>USC00118147</td>\n",
       "      <td>2006-12-24</td>\n",
       "      <td>TMAX</td>\n",
       "      <td>100</td>\n",
       "      <td>2006</td>\n",
       "      <td>12-24</td>\n",
       "    </tr>\n",
       "  </tbody>\n",
       "</table>\n",
       "</div>"
      ],
      "text/plain": [
       "            ID        Date Element  Data_Value  Year Month-Day\n",
       "0  USC00237397  2014-03-05    TMIN         -94  2014     03-05\n",
       "1  USW00003960  2008-04-04    TMAX         100  2008     04-04\n",
       "2  USW00003966  2009-08-18    TMAX         283  2009     08-18\n",
       "3  USW00003966  2011-10-25    TMAX         289  2011     10-25\n",
       "4  USC00118147  2006-12-24    TMAX         100  2006     12-24"
      ]
     },
     "execution_count": 7,
     "metadata": {},
     "output_type": "execute_result"
    }
   ],
   "source": [
    "# Create a new df that does not have leap year and 2015 values\n",
    "data2 = data1[(data1['Month-Day'] !='02-29') & (data1['Year'] !='2015')]\n",
    "data2.head()"
   ]
  },
  {
   "cell_type": "code",
   "execution_count": 8,
   "metadata": {},
   "outputs": [],
   "source": [
    "# Separate out TMIN and TMAX\n",
    "df_min = data2[data2['Element'] == 'TMIN']\n",
    "df_max = data2[data2['Element'] == 'TMAX']"
   ]
  },
  {
   "cell_type": "code",
   "execution_count": 9,
   "metadata": {},
   "outputs": [],
   "source": [
    "# Find min and max temperatures across 2005 - 2014 across 365 days\n",
    "import numpy as np\n",
    "grouped_df_min = df_min.groupby('Month-Day').aggregate({'Data_Value' : np.min})\n",
    "grouped_df_max = df_max.groupby('Month-Day').aggregate({'Data_Value' : np.max})"
   ]
  },
  {
   "cell_type": "code",
   "execution_count": 10,
   "metadata": {},
   "outputs": [
    {
     "data": {
      "text/plain": [
       "365"
      ]
     },
     "execution_count": 10,
     "metadata": {},
     "output_type": "execute_result"
    }
   ],
   "source": [
    "# Check for 365 values\n",
    "len(grouped_df_min)\n",
    "len(grouped_df_max)"
   ]
  },
  {
   "cell_type": "code",
   "execution_count": 11,
   "metadata": {},
   "outputs": [
    {
     "data": {
      "text/plain": [
       "6973"
      ]
     },
     "execution_count": 11,
     "metadata": {},
     "output_type": "execute_result"
    }
   ],
   "source": [
    "df_2015 = data1[(data1['Month-Day'] !='02-29') & (data1['Year'] =='2015')]\n",
    "len(df_2015)"
   ]
  },
  {
   "cell_type": "code",
   "execution_count": 12,
   "metadata": {},
   "outputs": [
    {
     "data": {
      "text/html": [
       "<div>\n",
       "<table border=\"1\" class=\"dataframe\">\n",
       "  <thead>\n",
       "    <tr style=\"text-align: right;\">\n",
       "      <th></th>\n",
       "      <th>ID</th>\n",
       "      <th>Date</th>\n",
       "      <th>Element</th>\n",
       "      <th>Data_Value</th>\n",
       "      <th>Year</th>\n",
       "      <th>Month-Day</th>\n",
       "    </tr>\n",
       "  </thead>\n",
       "  <tbody>\n",
       "    <tr>\n",
       "      <th>31</th>\n",
       "      <td>USC00237452</td>\n",
       "      <td>2015-04-13</td>\n",
       "      <td>TMAX</td>\n",
       "      <td>239</td>\n",
       "      <td>2015</td>\n",
       "      <td>04-13</td>\n",
       "    </tr>\n",
       "    <tr>\n",
       "      <th>41</th>\n",
       "      <td>USW00003966</td>\n",
       "      <td>2015-05-07</td>\n",
       "      <td>TMAX</td>\n",
       "      <td>289</td>\n",
       "      <td>2015</td>\n",
       "      <td>05-07</td>\n",
       "    </tr>\n",
       "    <tr>\n",
       "      <th>43</th>\n",
       "      <td>USW00003966</td>\n",
       "      <td>2015-04-27</td>\n",
       "      <td>TMIN</td>\n",
       "      <td>28</td>\n",
       "      <td>2015</td>\n",
       "      <td>04-27</td>\n",
       "    </tr>\n",
       "    <tr>\n",
       "      <th>49</th>\n",
       "      <td>USW00003960</td>\n",
       "      <td>2015-11-30</td>\n",
       "      <td>TMIN</td>\n",
       "      <td>44</td>\n",
       "      <td>2015</td>\n",
       "      <td>11-30</td>\n",
       "    </tr>\n",
       "    <tr>\n",
       "      <th>73</th>\n",
       "      <td>USC00238746</td>\n",
       "      <td>2015-03-27</td>\n",
       "      <td>TMAX</td>\n",
       "      <td>100</td>\n",
       "      <td>2015</td>\n",
       "      <td>03-27</td>\n",
       "    </tr>\n",
       "  </tbody>\n",
       "</table>\n",
       "</div>"
      ],
      "text/plain": [
       "             ID        Date Element  Data_Value  Year Month-Day\n",
       "31  USC00237452  2015-04-13    TMAX         239  2015     04-13\n",
       "41  USW00003966  2015-05-07    TMAX         289  2015     05-07\n",
       "43  USW00003966  2015-04-27    TMIN          28  2015     04-27\n",
       "49  USW00003960  2015-11-30    TMIN          44  2015     11-30\n",
       "73  USC00238746  2015-03-27    TMAX         100  2015     03-27"
      ]
     },
     "execution_count": 12,
     "metadata": {},
     "output_type": "execute_result"
    }
   ],
   "source": [
    "df_2015.head()"
   ]
  },
  {
   "cell_type": "code",
   "execution_count": 13,
   "metadata": {
    "collapsed": true
   },
   "outputs": [],
   "source": [
    "# Separate out TMIN and TMAX\n",
    "df_2015_min = df_2015[df_2015['Element'] == 'TMIN']\n",
    "df_2015_max = df_2015[df_2015['Element'] == 'TMAX']"
   ]
  },
  {
   "cell_type": "code",
   "execution_count": 14,
   "metadata": {},
   "outputs": [],
   "source": [
    "# group min data by Month-Date\n",
    "grouped_df_2015_min = df_2015_min.groupby('Month-Day').aggregate({'Data_Value' : np.min})\n",
    "grouped_df_2015_max = df_2015_max.groupby('Month-Day').aggregate({'Data_Value' : np.max})"
   ]
  },
  {
   "cell_type": "code",
   "execution_count": 15,
   "metadata": {},
   "outputs": [
    {
     "data": {
      "text/plain": [
       "365"
      ]
     },
     "execution_count": 15,
     "metadata": {},
     "output_type": "execute_result"
    }
   ],
   "source": [
    "len(grouped_df_2015_min)\n",
    "len(grouped_df_2015_max)"
   ]
  },
  {
   "cell_type": "code",
   "execution_count": 16,
   "metadata": {},
   "outputs": [
    {
     "data": {
      "text/html": [
       "<div>\n",
       "<table border=\"1\" class=\"dataframe\">\n",
       "  <thead>\n",
       "    <tr style=\"text-align: right;\">\n",
       "      <th></th>\n",
       "      <th>Data_Value</th>\n",
       "    </tr>\n",
       "    <tr>\n",
       "      <th>Month-Day</th>\n",
       "      <th></th>\n",
       "    </tr>\n",
       "  </thead>\n",
       "  <tbody>\n",
       "    <tr>\n",
       "      <th>01-01</th>\n",
       "      <td>50</td>\n",
       "    </tr>\n",
       "    <tr>\n",
       "      <th>01-02</th>\n",
       "      <td>72</td>\n",
       "    </tr>\n",
       "    <tr>\n",
       "      <th>01-03</th>\n",
       "      <td>78</td>\n",
       "    </tr>\n",
       "    <tr>\n",
       "      <th>01-04</th>\n",
       "      <td>72</td>\n",
       "    </tr>\n",
       "    <tr>\n",
       "      <th>01-05</th>\n",
       "      <td>33</td>\n",
       "    </tr>\n",
       "  </tbody>\n",
       "</table>\n",
       "</div>"
      ],
      "text/plain": [
       "           Data_Value\n",
       "Month-Day            \n",
       "01-01              50\n",
       "01-02              72\n",
       "01-03              78\n",
       "01-04              72\n",
       "01-05              33"
      ]
     },
     "execution_count": 16,
     "metadata": {},
     "output_type": "execute_result"
    }
   ],
   "source": [
    "grouped_df_2015_max.head()"
   ]
  },
  {
   "cell_type": "code",
   "execution_count": 17,
   "metadata": {},
   "outputs": [],
   "source": [
    "import numpy as np\n",
    "exceed_min = np.where(grouped_df_2015_min['Data_Value'] < grouped_df_min['Data_Value'])\n",
    "exceed_max = np.where(grouped_df_2015_max['Data_Value'] > grouped_df_max['Data_Value'])"
   ]
  },
  {
   "cell_type": "code",
   "execution_count": 18,
   "metadata": {},
   "outputs": [
    {
     "data": {
      "text/plain": [
       "(array([ 17,  38,  75, 161, 194, 259, 260, 293, 294, 295, 341, 342, 343,\n",
       "        344, 345, 346, 355, 357]),)"
      ]
     },
     "execution_count": 18,
     "metadata": {},
     "output_type": "execute_result"
    }
   ],
   "source": [
    "# gives index positions where 2015 calendar days exceed min or max over 2005 - 2014\n",
    "exceed_min\n",
    "exceed_max"
   ]
  },
  {
   "cell_type": "code",
   "execution_count": 19,
   "metadata": {},
   "outputs": [
    {
     "data": {
      "text/html": [
       "<div>\n",
       "<table border=\"1\" class=\"dataframe\">\n",
       "  <thead>\n",
       "    <tr style=\"text-align: right;\">\n",
       "      <th></th>\n",
       "      <th>Data_Value</th>\n",
       "    </tr>\n",
       "    <tr>\n",
       "      <th>Month-Day</th>\n",
       "      <th></th>\n",
       "    </tr>\n",
       "  </thead>\n",
       "  <tbody>\n",
       "    <tr>\n",
       "      <th>01-18</th>\n",
       "      <td>172</td>\n",
       "    </tr>\n",
       "    <tr>\n",
       "      <th>02-08</th>\n",
       "      <td>217</td>\n",
       "    </tr>\n",
       "    <tr>\n",
       "      <th>03-17</th>\n",
       "      <td>294</td>\n",
       "    </tr>\n",
       "    <tr>\n",
       "      <th>06-11</th>\n",
       "      <td>350</td>\n",
       "    </tr>\n",
       "    <tr>\n",
       "      <th>07-14</th>\n",
       "      <td>367</td>\n",
       "    </tr>\n",
       "    <tr>\n",
       "      <th>09-17</th>\n",
       "      <td>328</td>\n",
       "    </tr>\n",
       "    <tr>\n",
       "      <th>09-18</th>\n",
       "      <td>339</td>\n",
       "    </tr>\n",
       "    <tr>\n",
       "      <th>10-21</th>\n",
       "      <td>300</td>\n",
       "    </tr>\n",
       "    <tr>\n",
       "      <th>10-22</th>\n",
       "      <td>300</td>\n",
       "    </tr>\n",
       "    <tr>\n",
       "      <th>10-23</th>\n",
       "      <td>294</td>\n",
       "    </tr>\n",
       "    <tr>\n",
       "      <th>12-08</th>\n",
       "      <td>178</td>\n",
       "    </tr>\n",
       "    <tr>\n",
       "      <th>12-09</th>\n",
       "      <td>178</td>\n",
       "    </tr>\n",
       "    <tr>\n",
       "      <th>12-10</th>\n",
       "      <td>206</td>\n",
       "    </tr>\n",
       "    <tr>\n",
       "      <th>12-11</th>\n",
       "      <td>206</td>\n",
       "    </tr>\n",
       "    <tr>\n",
       "      <th>12-12</th>\n",
       "      <td>228</td>\n",
       "    </tr>\n",
       "    <tr>\n",
       "      <th>12-13</th>\n",
       "      <td>222</td>\n",
       "    </tr>\n",
       "    <tr>\n",
       "      <th>12-22</th>\n",
       "      <td>189</td>\n",
       "    </tr>\n",
       "    <tr>\n",
       "      <th>12-24</th>\n",
       "      <td>178</td>\n",
       "    </tr>\n",
       "  </tbody>\n",
       "</table>\n",
       "</div>"
      ],
      "text/plain": [
       "           Data_Value\n",
       "Month-Day            \n",
       "01-18             172\n",
       "02-08             217\n",
       "03-17             294\n",
       "06-11             350\n",
       "07-14             367\n",
       "09-17             328\n",
       "09-18             339\n",
       "10-21             300\n",
       "10-22             300\n",
       "10-23             294\n",
       "12-08             178\n",
       "12-09             178\n",
       "12-10             206\n",
       "12-11             206\n",
       "12-12             228\n",
       "12-13             222\n",
       "12-22             189\n",
       "12-24             178"
      ]
     },
     "execution_count": 19,
     "metadata": {},
     "output_type": "execute_result"
    }
   ],
   "source": [
    "# gives actual values where 2015 calendar days exceed min or max over 2005 - 2014\n",
    "grouped_df_2015_min.iloc[exceed_min]\n",
    "grouped_df_2015_max.iloc[exceed_max]"
   ]
  },
  {
   "cell_type": "code",
   "execution_count": 20,
   "metadata": {},
   "outputs": [
    {
     "data": {
      "text/plain": [
       "<matplotlib.figure.Figure at 0x7fee044c15f8>"
      ]
     },
     "execution_count": 20,
     "metadata": {},
     "output_type": "execute_result"
    }
   ],
   "source": [
    "# Make the plot\n",
    "plt.figure()"
   ]
  },
  {
   "cell_type": "code",
   "execution_count": 21,
   "metadata": {},
   "outputs": [
    {
     "data": {
      "text/plain": [
       "[<matplotlib.lines.Line2D at 0x7fedca05b7f0>]"
      ]
     },
     "execution_count": 21,
     "metadata": {},
     "output_type": "execute_result"
    }
   ],
   "source": [
    "# Make line graphs for 365 days for max/min values\n",
    "plt.plot(grouped_df_max.values, 'orange', label = 'Record Highs')\n",
    "plt.plot(grouped_df_min.values, 'grey', label = 'Record Lows')\n"
   ]
  },
  {
   "cell_type": "code",
   "execution_count": 22,
   "metadata": {},
   "outputs": [
    {
     "data": {
      "text/plain": [
       "<matplotlib.collections.PathCollection at 0x7fedc40bedd8>"
      ]
     },
     "execution_count": 22,
     "metadata": {},
     "output_type": "execute_result"
    }
   ],
   "source": [
    "# Use scatterplot to show where 2015 value exceeds 10-year period of 2005-2014 for min/max temp.\n",
    "plt.scatter(exceed_max, grouped_df_2015_max.iloc[exceed_max], s = 200, c = 'magenta', marker = '*', label = '2015 Exceed Record High')\n",
    "plt.scatter(exceed_min, grouped_df_2015_min.iloc[exceed_min], s = 200, c = 'cyan',marker = 'p', label = '2015 Exceed Record Low')\n",
    "\n"
   ]
  },
  {
   "cell_type": "code",
   "execution_count": 23,
   "metadata": {},
   "outputs": [
    {
     "data": {
      "text/plain": [
       "Data_Value    428\n",
       "dtype: int64"
      ]
     },
     "execution_count": 23,
     "metadata": {},
     "output_type": "execute_result"
    }
   ],
   "source": [
    "# Find range of values and use this to size axes\n",
    "grouped_df_min.min()  # -294\n",
    "grouped_df_min.max() # 161\n",
    "grouped_df_max.min() # 122\n",
    "grouped_df_max.max() # 428"
   ]
  },
  {
   "cell_type": "code",
   "execution_count": 24,
   "metadata": {},
   "outputs": [
    {
     "data": {
      "text/plain": [
       "[-1, 400, -300, 750]"
      ]
     },
     "execution_count": 24,
     "metadata": {},
     "output_type": "execute_result"
    }
   ],
   "source": [
    "# Set axis, days are horizontal (-1 to 400) and temp is vertical (-300 to 750)\n",
    "plt.gca().axis([-1, 400, -300, 750])"
   ]
  },
  {
   "cell_type": "code",
   "execution_count": 25,
   "metadata": {},
   "outputs": [
    {
     "data": {
      "text/plain": [
       "([<matplotlib.axis.XTick at 0x7fedc41a6978>,\n",
       "  <matplotlib.axis.XTick at 0x7fedc41a3208>,\n",
       "  <matplotlib.axis.XTick at 0x7fedc419b7f0>,\n",
       "  <matplotlib.axis.XTick at 0x7fedc40c9cc0>,\n",
       "  <matplotlib.axis.XTick at 0x7fedc40be1d0>,\n",
       "  <matplotlib.axis.XTick at 0x7fedc3f98e48>,\n",
       "  <matplotlib.axis.XTick at 0x7fedc3fa5860>,\n",
       "  <matplotlib.axis.XTick at 0x7fedc3fb3278>,\n",
       "  <matplotlib.axis.XTick at 0x7fedc3fb3c50>,\n",
       "  <matplotlib.axis.XTick at 0x7fedc3fbe668>,\n",
       "  <matplotlib.axis.XTick at 0x7fedc3fcc080>,\n",
       "  <matplotlib.axis.XTick at 0x7fedc3fcca58>,\n",
       "  <matplotlib.axis.XTick at 0x7fedc3ed5470>,\n",
       "  <matplotlib.axis.XTick at 0x7fedc3ed5e48>,\n",
       "  <matplotlib.axis.XTick at 0x7fedc3ee9860>,\n",
       "  <matplotlib.axis.XTick at 0x7fedc3ef1278>,\n",
       "  <matplotlib.axis.XTick at 0x7fedc3ef1c18>,\n",
       "  <matplotlib.axis.XTick at 0x7fedc3ef95f8>,\n",
       "  <matplotlib.axis.XTick at 0x7fedc3ef9fd0>],\n",
       " <a list of 19 Text xticklabel objects>)"
      ]
     },
     "execution_count": 25,
     "metadata": {},
     "output_type": "execute_result"
    }
   ],
   "source": [
    "# Set tick marks\n",
    "plt.xticks(range(0, len(grouped_df_min), 20), grouped_df_min.index[range(0, len(grouped_df_min), 20)], rotation = '45')"
   ]
  },
  {
   "cell_type": "code",
   "execution_count": 26,
   "metadata": {},
   "outputs": [
    {
     "data": {
      "text/plain": [
       "<matplotlib.text.Text at 0x7fedc41ae978>"
      ]
     },
     "execution_count": 26,
     "metadata": {},
     "output_type": "execute_result"
    }
   ],
   "source": [
    "# make the labels\n",
    "plt.xlabel('Calendar Days')\n",
    "plt.ylabel('Temperature (Tenths of Degrees C)')\n",
    "plt.title('Record Highs and Lows of St. Louis,MO from 2005 to 2014')"
   ]
  },
  {
   "cell_type": "code",
   "execution_count": 27,
   "metadata": {},
   "outputs": [
    {
     "data": {
      "text/plain": [
       "<matplotlib.legend.Legend at 0x7fedca05b0f0>"
      ]
     },
     "execution_count": 27,
     "metadata": {},
     "output_type": "execute_result"
    }
   ],
   "source": [
    "# make the legend and set it northwest direction\n",
    "plt.legend(loc = 2, frameon = False)"
   ]
  },
  {
   "cell_type": "code",
   "execution_count": 28,
   "metadata": {},
   "outputs": [
    {
     "data": {
      "text/plain": [
       "<matplotlib.collections.PolyCollection at 0x7fedc41abac8>"
      ]
     },
     "execution_count": 28,
     "metadata": {},
     "output_type": "execute_result"
    }
   ],
   "source": [
    "# add the fill in color using lower and upper bounds and transparency\n",
    "plt.gca().fill_between(range(len(grouped_df_min)), grouped_df_min['Data_Value'], grouped_df_max['Data_Value'], facecolor = 'green', alpha = 0.25)"
   ]
  },
  {
   "cell_type": "code",
   "execution_count": 29,
   "metadata": {},
   "outputs": [
    {
     "data": {
      "image/png": "[encoded data removed]",
      "text/plain": [
       "<matplotlib.figure.Figure at 0x7fee044c15f8>"
      ]
     },
     "metadata": {},
     "output_type": "display_data"
    }
   ],
   "source": [
    "# Remove frame from chart\n",
    "# Spines define data area boundaries; they connect the axis tick marks.\n",
    "plt.gca().spines['top'].set_visible(False)\n",
    "plt.gca().spines['right'].set_visible(False)\n",
    "plt.show()"
   ]
  },
  {
   "cell_type": "code",
   "execution_count": null,
   "metadata": {
    "collapsed": true
   },
   "outputs": [],
   "source": []
  }
 ],
 "metadata": {
  "kernelspec": {
   "display_name": "Python 3",
   "language": "python",
   "name": "python3"
  },
  "language_info": {
   "codemirror_mode": {
    "name": "ipython",
    "version": 3
   },
   "file_extension": ".py",
   "mimetype": "text/x-python",
   "name": "python",
   "nbconvert_exporter": "python",
   "pygments_lexer": "ipython3",
   "version": "3.6.1"
  }
 },
 "nbformat": 4,
 "nbformat_minor": 1
}

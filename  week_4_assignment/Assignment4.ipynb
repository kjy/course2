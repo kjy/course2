{
 "cells": [
  {
   "cell_type": "markdown",
   "metadata": {},
   "source": [
    "# Assignment 4\n"
   ]
  },
  {
   "cell_type": "markdown",
   "metadata": {
    "collapsed": true
   },
   "source": [
    "Instructions\n",
    "\n",
    "This assignment requires that you identify at least two publicly accessible datasets from the same region that are consistent across a meaningful dimension. You will state a research question that can be answered using these data sets and then create a visual using matplotlib that addresses your stated research question. You will then be asked to justify how your visual addresses your research question.\n",
    "\n",
    "As this assignment is for the whole course, you must incorporate and defend the principles discussed in the first week and align with Cairo’s principles of truth, beauty, function, and insight."
   ]
  },
  {
   "cell_type": "markdown",
   "metadata": {},
   "source": [
    "## Research Question:\n",
    "### What is the relationship between the number of prescriptions dispensed in Missouri and the number of opioid deaths?"
   ]
  },
  {
   "cell_type": "code",
   "execution_count": 10,
   "metadata": {
    "collapsed": true
   },
   "outputs": [],
   "source": [
    "import pandas as pd\n",
    "import numpy as np\n",
    "import matplotlib.pyplot as plt"
   ]
  },
  {
   "cell_type": "code",
   "execution_count": 11,
   "metadata": {},
   "outputs": [
    {
     "data": {
      "text/html": [
       "<div>\n",
       "<style>\n",
       "    .dataframe thead tr:only-child th {\n",
       "        text-align: right;\n",
       "    }\n",
       "\n",
       "    .dataframe thead th {\n",
       "        text-align: left;\n",
       "    }\n",
       "\n",
       "    .dataframe tbody tr th {\n",
       "        vertical-align: top;\n",
       "    }\n",
       "</style>\n",
       "<table border=\"1\" class=\"dataframe\">\n",
       "  <thead>\n",
       "    <tr style=\"text-align: right;\">\n",
       "      <th></th>\n",
       "      <th>state</th>\n",
       "      <th>year</th>\n",
       "      <th>deaths</th>\n",
       "      <th>population</th>\n",
       "      <th>crude_rate</th>\n",
       "      <th>crude_rate_lower_95_confidence_interval</th>\n",
       "      <th>crude_rate_upper_95_confidence_interval</th>\n",
       "      <th>prescriptions_dispensed_by_us_retailers_in_that_year_millions</th>\n",
       "    </tr>\n",
       "  </thead>\n",
       "  <tbody>\n",
       "    <tr>\n",
       "      <th>0</th>\n",
       "      <td>Alabama</td>\n",
       "      <td>1999</td>\n",
       "      <td>39</td>\n",
       "      <td>4430141</td>\n",
       "      <td>0.9</td>\n",
       "      <td>0.6</td>\n",
       "      <td>1.2</td>\n",
       "      <td>116</td>\n",
       "    </tr>\n",
       "    <tr>\n",
       "      <th>1</th>\n",
       "      <td>Alabama</td>\n",
       "      <td>2000</td>\n",
       "      <td>46</td>\n",
       "      <td>4447100</td>\n",
       "      <td>1</td>\n",
       "      <td>0.8</td>\n",
       "      <td>1.4</td>\n",
       "      <td>126</td>\n",
       "    </tr>\n",
       "    <tr>\n",
       "      <th>2</th>\n",
       "      <td>Alabama</td>\n",
       "      <td>2001</td>\n",
       "      <td>67</td>\n",
       "      <td>4467634</td>\n",
       "      <td>1.5</td>\n",
       "      <td>1.2</td>\n",
       "      <td>1.9</td>\n",
       "      <td>138</td>\n",
       "    </tr>\n",
       "    <tr>\n",
       "      <th>3</th>\n",
       "      <td>Alabama</td>\n",
       "      <td>2002</td>\n",
       "      <td>75</td>\n",
       "      <td>4480089</td>\n",
       "      <td>1.7</td>\n",
       "      <td>1.3</td>\n",
       "      <td>2.1</td>\n",
       "      <td>142</td>\n",
       "    </tr>\n",
       "    <tr>\n",
       "      <th>4</th>\n",
       "      <td>Alabama</td>\n",
       "      <td>2003</td>\n",
       "      <td>54</td>\n",
       "      <td>4503491</td>\n",
       "      <td>1.2</td>\n",
       "      <td>0.9</td>\n",
       "      <td>1.6</td>\n",
       "      <td>149</td>\n",
       "    </tr>\n",
       "  </tbody>\n",
       "</table>\n",
       "</div>"
      ],
      "text/plain": [
       "     state  year deaths  population crude_rate  \\\n",
       "0  Alabama  1999     39     4430141        0.9   \n",
       "1  Alabama  2000     46     4447100          1   \n",
       "2  Alabama  2001     67     4467634        1.5   \n",
       "3  Alabama  2002     75     4480089        1.7   \n",
       "4  Alabama  2003     54     4503491        1.2   \n",
       "\n",
       "  crude_rate_lower_95_confidence_interval  \\\n",
       "0                                     0.6   \n",
       "1                                     0.8   \n",
       "2                                     1.2   \n",
       "3                                     1.3   \n",
       "4                                     0.9   \n",
       "\n",
       "  crude_rate_upper_95_confidence_interval  \\\n",
       "0                                     1.2   \n",
       "1                                     1.4   \n",
       "2                                     1.9   \n",
       "3                                     2.1   \n",
       "4                                     1.6   \n",
       "\n",
       "   prescriptions_dispensed_by_us_retailers_in_that_year_millions  \n",
       "0                                                116              \n",
       "1                                                126              \n",
       "2                                                138              \n",
       "3                                                142              \n",
       "4                                                149              "
      ]
     },
     "execution_count": 11,
     "metadata": {},
     "output_type": "execute_result"
    }
   ],
   "source": [
    "# Source for downloaded data:  https://data.world/health/opioid-overdose-deaths\n",
    "df = pd.read_csv('/Users/karenyang/Desktop/DataScience_PlottingChartingDataRepresentation/ week_4_assignment/multiple_cause_of_death_1999_2014_v1_1.csv')\n",
    "df.head()"
   ]
  },
  {
   "cell_type": "code",
   "execution_count": 12,
   "metadata": {
    "collapsed": true
   },
   "outputs": [],
   "source": [
    "# delete unused columns\n",
    "df.drop('crude_rate', axis=1, inplace=True)\n",
    "df.drop('crude_rate_lower_95_confidence_interval', axis=1, inplace=True)\n",
    "df.drop('crude_rate_upper_95_confidence_interval', axis=1, inplace=True)"
   ]
  },
  {
   "cell_type": "code",
   "execution_count": 13,
   "metadata": {},
   "outputs": [
    {
     "data": {
      "text/html": [
       "<div>\n",
       "<style>\n",
       "    .dataframe thead tr:only-child th {\n",
       "        text-align: right;\n",
       "    }\n",
       "\n",
       "    .dataframe thead th {\n",
       "        text-align: left;\n",
       "    }\n",
       "\n",
       "    .dataframe tbody tr th {\n",
       "        vertical-align: top;\n",
       "    }\n",
       "</style>\n",
       "<table border=\"1\" class=\"dataframe\">\n",
       "  <thead>\n",
       "    <tr style=\"text-align: right;\">\n",
       "      <th></th>\n",
       "      <th>state</th>\n",
       "      <th>year</th>\n",
       "      <th>deaths</th>\n",
       "      <th>population</th>\n",
       "      <th>prescriptions_dispensed_by_us_retailers_in_that_year_millions</th>\n",
       "    </tr>\n",
       "  </thead>\n",
       "  <tbody>\n",
       "    <tr>\n",
       "      <th>811</th>\n",
       "      <td>Wyoming</td>\n",
       "      <td>2010</td>\n",
       "      <td>49</td>\n",
       "      <td>563626</td>\n",
       "      <td>210</td>\n",
       "    </tr>\n",
       "    <tr>\n",
       "      <th>812</th>\n",
       "      <td>Wyoming</td>\n",
       "      <td>2011</td>\n",
       "      <td>47</td>\n",
       "      <td>568158</td>\n",
       "      <td>219</td>\n",
       "    </tr>\n",
       "    <tr>\n",
       "      <th>813</th>\n",
       "      <td>Wyoming</td>\n",
       "      <td>2012</td>\n",
       "      <td>47</td>\n",
       "      <td>576412</td>\n",
       "      <td>217</td>\n",
       "    </tr>\n",
       "    <tr>\n",
       "      <th>814</th>\n",
       "      <td>Wyoming</td>\n",
       "      <td>2013</td>\n",
       "      <td>52</td>\n",
       "      <td>582658</td>\n",
       "      <td>207</td>\n",
       "    </tr>\n",
       "    <tr>\n",
       "      <th>815</th>\n",
       "      <td>Wyoming</td>\n",
       "      <td>2014</td>\n",
       "      <td>57</td>\n",
       "      <td>584153</td>\n",
       "      <td>196</td>\n",
       "    </tr>\n",
       "  </tbody>\n",
       "</table>\n",
       "</div>"
      ],
      "text/plain": [
       "       state  year deaths  population  \\\n",
       "811  Wyoming  2010     49      563626   \n",
       "812  Wyoming  2011     47      568158   \n",
       "813  Wyoming  2012     47      576412   \n",
       "814  Wyoming  2013     52      582658   \n",
       "815  Wyoming  2014     57      584153   \n",
       "\n",
       "     prescriptions_dispensed_by_us_retailers_in_that_year_millions  \n",
       "811                                                210              \n",
       "812                                                219              \n",
       "813                                                217              \n",
       "814                                                207              \n",
       "815                                                196              "
      ]
     },
     "execution_count": 13,
     "metadata": {},
     "output_type": "execute_result"
    }
   ],
   "source": [
    "df.tail()"
   ]
  },
  {
   "cell_type": "code",
   "execution_count": 14,
   "metadata": {},
   "outputs": [
    {
     "data": {
      "text/html": [
       "<div>\n",
       "<style>\n",
       "    .dataframe thead tr:only-child th {\n",
       "        text-align: right;\n",
       "    }\n",
       "\n",
       "    .dataframe thead th {\n",
       "        text-align: left;\n",
       "    }\n",
       "\n",
       "    .dataframe tbody tr th {\n",
       "        vertical-align: top;\n",
       "    }\n",
       "</style>\n",
       "<table border=\"1\" class=\"dataframe\">\n",
       "  <thead>\n",
       "    <tr style=\"text-align: right;\">\n",
       "      <th></th>\n",
       "      <th>state</th>\n",
       "      <th>year</th>\n",
       "      <th>deaths</th>\n",
       "      <th>population</th>\n",
       "      <th>prescriptions_dispensed_by_us_retailers_in_that_year_millions</th>\n",
       "    </tr>\n",
       "  </thead>\n",
       "  <tbody>\n",
       "    <tr>\n",
       "      <th>400</th>\n",
       "      <td>Missouri</td>\n",
       "      <td>1999</td>\n",
       "      <td>106</td>\n",
       "      <td>5561948</td>\n",
       "      <td>116</td>\n",
       "    </tr>\n",
       "    <tr>\n",
       "      <th>401</th>\n",
       "      <td>Missouri</td>\n",
       "      <td>2000</td>\n",
       "      <td>138</td>\n",
       "      <td>5595211</td>\n",
       "      <td>126</td>\n",
       "    </tr>\n",
       "    <tr>\n",
       "      <th>402</th>\n",
       "      <td>Missouri</td>\n",
       "      <td>2001</td>\n",
       "      <td>137</td>\n",
       "      <td>5641142</td>\n",
       "      <td>138</td>\n",
       "    </tr>\n",
       "    <tr>\n",
       "      <th>403</th>\n",
       "      <td>Missouri</td>\n",
       "      <td>2002</td>\n",
       "      <td>198</td>\n",
       "      <td>5674825</td>\n",
       "      <td>142</td>\n",
       "    </tr>\n",
       "    <tr>\n",
       "      <th>404</th>\n",
       "      <td>Missouri</td>\n",
       "      <td>2003</td>\n",
       "      <td>277</td>\n",
       "      <td>5709403</td>\n",
       "      <td>149</td>\n",
       "    </tr>\n",
       "    <tr>\n",
       "      <th>405</th>\n",
       "      <td>Missouri</td>\n",
       "      <td>2004</td>\n",
       "      <td>284</td>\n",
       "      <td>5747741</td>\n",
       "      <td>155</td>\n",
       "    </tr>\n",
       "    <tr>\n",
       "      <th>406</th>\n",
       "      <td>Missouri</td>\n",
       "      <td>2005</td>\n",
       "      <td>306</td>\n",
       "      <td>5790300</td>\n",
       "      <td>163</td>\n",
       "    </tr>\n",
       "    <tr>\n",
       "      <th>407</th>\n",
       "      <td>Missouri</td>\n",
       "      <td>2006</td>\n",
       "      <td>418</td>\n",
       "      <td>5842704</td>\n",
       "      <td>174</td>\n",
       "    </tr>\n",
       "    <tr>\n",
       "      <th>408</th>\n",
       "      <td>Missouri</td>\n",
       "      <td>2007</td>\n",
       "      <td>406</td>\n",
       "      <td>5887612</td>\n",
       "      <td>184</td>\n",
       "    </tr>\n",
       "    <tr>\n",
       "      <th>409</th>\n",
       "      <td>Missouri</td>\n",
       "      <td>2008</td>\n",
       "      <td>490</td>\n",
       "      <td>5923916</td>\n",
       "      <td>196</td>\n",
       "    </tr>\n",
       "    <tr>\n",
       "      <th>410</th>\n",
       "      <td>Missouri</td>\n",
       "      <td>2009</td>\n",
       "      <td>548</td>\n",
       "      <td>5961088</td>\n",
       "      <td>202</td>\n",
       "    </tr>\n",
       "    <tr>\n",
       "      <th>411</th>\n",
       "      <td>Missouri</td>\n",
       "      <td>2010</td>\n",
       "      <td>612</td>\n",
       "      <td>5988927</td>\n",
       "      <td>210</td>\n",
       "    </tr>\n",
       "    <tr>\n",
       "      <th>412</th>\n",
       "      <td>Missouri</td>\n",
       "      <td>2011</td>\n",
       "      <td>614</td>\n",
       "      <td>6010688</td>\n",
       "      <td>219</td>\n",
       "    </tr>\n",
       "    <tr>\n",
       "      <th>413</th>\n",
       "      <td>Missouri</td>\n",
       "      <td>2012</td>\n",
       "      <td>556</td>\n",
       "      <td>6021988</td>\n",
       "      <td>217</td>\n",
       "    </tr>\n",
       "    <tr>\n",
       "      <th>414</th>\n",
       "      <td>Missouri</td>\n",
       "      <td>2013</td>\n",
       "      <td>644</td>\n",
       "      <td>6044171</td>\n",
       "      <td>207</td>\n",
       "    </tr>\n",
       "    <tr>\n",
       "      <th>415</th>\n",
       "      <td>Missouri</td>\n",
       "      <td>2014</td>\n",
       "      <td>726</td>\n",
       "      <td>6063589</td>\n",
       "      <td>196</td>\n",
       "    </tr>\n",
       "  </tbody>\n",
       "</table>\n",
       "</div>"
      ],
      "text/plain": [
       "        state  year deaths  population  \\\n",
       "400  Missouri  1999    106     5561948   \n",
       "401  Missouri  2000    138     5595211   \n",
       "402  Missouri  2001    137     5641142   \n",
       "403  Missouri  2002    198     5674825   \n",
       "404  Missouri  2003    277     5709403   \n",
       "405  Missouri  2004    284     5747741   \n",
       "406  Missouri  2005    306     5790300   \n",
       "407  Missouri  2006    418     5842704   \n",
       "408  Missouri  2007    406     5887612   \n",
       "409  Missouri  2008    490     5923916   \n",
       "410  Missouri  2009    548     5961088   \n",
       "411  Missouri  2010    612     5988927   \n",
       "412  Missouri  2011    614     6010688   \n",
       "413  Missouri  2012    556     6021988   \n",
       "414  Missouri  2013    644     6044171   \n",
       "415  Missouri  2014    726     6063589   \n",
       "\n",
       "     prescriptions_dispensed_by_us_retailers_in_that_year_millions  \n",
       "400                                                116              \n",
       "401                                                126              \n",
       "402                                                138              \n",
       "403                                                142              \n",
       "404                                                149              \n",
       "405                                                155              \n",
       "406                                                163              \n",
       "407                                                174              \n",
       "408                                                184              \n",
       "409                                                196              \n",
       "410                                                202              \n",
       "411                                                210              \n",
       "412                                                219              \n",
       "413                                                217              \n",
       "414                                                207              \n",
       "415                                                196              "
      ]
     },
     "execution_count": 14,
     "metadata": {},
     "output_type": "execute_result"
    }
   ],
   "source": [
    "# subset out Missouri only\n",
    "df2 = df[df['state'] == 'Missouri']\n",
    "df2"
   ]
  },
  {
   "cell_type": "code",
   "execution_count": 15,
   "metadata": {
    "collapsed": true
   },
   "outputs": [],
   "source": [
    "year = df2.year.tolist()\n",
    "deaths = df2.deaths.tolist()\n",
    "prescriptions = df2.prescriptions_dispensed_by_us_retailers_in_that_year_millions.tolist()\n"
   ]
  },
  {
   "cell_type": "code",
   "execution_count": 16,
   "metadata": {},
   "outputs": [
    {
     "data": {
      "image/png": "[encoded data removed]",
      "text/plain": [
       "<matplotlib.figure.Figure at 0x10c530630>"
      ]
     },
     "metadata": {},
     "output_type": "display_data"
    }
   ],
   "source": [
    "plt.plot(deaths, prescriptions)\n",
    "plt.show()"
   ]
  },
  {
   "cell_type": "code",
   "execution_count": 17,
   "metadata": {
    "scrolled": true
   },
   "outputs": [
    {
     "data": {
      "image/png": "[encoded data removed]",
      "text/plain": [
       "<matplotlib.figure.Figure at 0x118b27438>"
      ]
     },
     "metadata": {},
     "output_type": "display_data"
    }
   ],
   "source": [
    "plt.plot(deaths, prescriptions, '-o')\n",
    "plt.xlabel('Year')\n",
    "plt.ylabel('Number of Prescriptions in Millions')\n",
    "\n",
    "plt.title('Deaths Per Year and Number of Prescriptions Dispensed')\n",
    "plt.show()"
   ]
  },
  {
   "cell_type": "code",
   "execution_count": 18,
   "metadata": {},
   "outputs": [
    {
     "data": {
      "image/png": "[encoded data removed]",
      "text/plain": [
       "<matplotlib.figure.Figure at 0x118c1ddd8>"
      ]
     },
     "metadata": {},
     "output_type": "display_data"
    }
   ],
   "source": [
    "# make a barplot\n",
    "plt.figure()\n",
    "\n",
    "Years = [str(x) for x in year]\n",
    "pos = np.arange(len(Years))\n",
    "Deaths = deaths\n",
    "\n",
    "bars = plt.bar(pos, Deaths, align = 'center', width = 0.8, linewidth = 0, color = 'cyan')\n",
    "\n",
    "plt.xticks(pos, Years)\n",
    "x = plt.gca().xaxis\n",
    "for item in x.get_ticklabels():\n",
    "    item.set_rotation(45)\n",
    "plt.ylabel('Prescriptions Dispensed in Millions')\n",
    "plt.xlabel('Deaths per Year in Missouri')\n",
    "plt.title('Opioid Deaths in Missouri and Number of Prescriptions Dispensed (1999 - 2014)')\n",
    "\n",
    "\n",
    "for bar in bars:\n",
    "    plt.gca().text(bar.get_x() + bar.get_width()/2, bar.get_height() - 5, str(int(bar.get_height())), \n",
    "                 ha='center', color='black', fontsize=11)\n",
    "    \n",
    "# remove the frame of the chart\n",
    "for spine in plt.gca().spines.values():\n",
    "    spine.set_visible(False)      \n",
    "    \n",
    "plt.show()"
   ]
  },
  {
   "cell_type": "markdown",
   "metadata": {},
   "source": [
    "http://www.wbur.org/onpoint/2017/06/27/health-care-medicaid-cuts-opioid-crisis"
   ]
  },
  {
   "cell_type": "markdown",
   "metadata": {},
   "source": [
    "# Discussion\n",
    "The data visualization suggests that the relationship between the number of prescriptions dispensed and the number of opioid deaths is linear and positive. However, this could be a spurious correlation since we do not know the types of prescriptions, their dosage and frequency, and addictiveness. Not all prescriptions take a person down the road to opioid use and eventual death. More data are needed to flesh these factors out. It should be noted that Missouri recently adopted a prescription drug monitoring program in April 2017 to address the opioid epidemic.  "
   ]
  },
  {
   "cell_type": "code",
   "execution_count": null,
   "metadata": {
    "collapsed": true
   },
   "outputs": [],
   "source": []
  },
  {
   "cell_type": "markdown",
   "metadata": {
    "collapsed": true
   },
   "source": [
    "Did the learner describe their design choices in regards to Cairo's principle of truthfulness (e.g., avoiding misleading representations) and relate them to one or more elements of their visual?\n",
    "\n",
    "Did the learner describe their design choices in regards to Cairo's principle of beauty (e.g., using fonts, colors, and layout that are appropriate and aesthetically pleasing) and relate them to one or more elements of their visual?\n",
    "\n",
    "Did the learner describe their design choices in regards to Cairo's principle of functionality (e.g., choosing a charting type that is appropriate for the stated research question) and relate them to one or more elements of their visual?\n",
    "\n",
    "Did the learner link Cairo's principle of insightfulness (i.e., producing a \"eureka\" or \"aha\" response in the viewer) with one or more elements of their visual?"
   ]
  },
  {
   "cell_type": "code",
   "execution_count": null,
   "metadata": {
    "collapsed": true
   },
   "outputs": [],
   "source": []
  }
 ],
 "metadata": {
  "kernelspec": {
   "display_name": "Python 3",
   "language": "python",
   "name": "python3"
  },
  "language_info": {
   "codemirror_mode": {
    "name": "ipython",
    "version": 3
   },
   "file_extension": ".py",
   "mimetype": "text/x-python",
   "name": "python",
   "nbconvert_exporter": "python",
   "pygments_lexer": "ipython3",
   "version": "3.6.1"
  }
 },
 "nbformat": 4,
 "nbformat_minor": 1
}
